{
 "cells": [
  {
   "cell_type": "code",
   "execution_count": 1,
   "id": "b7228e96-4a1b-4488-88c8-19d6a1c9b60d",
   "metadata": {},
   "outputs": [],
   "source": [
    "import scipy\n",
    "import scipy.stats as stats\n",
    "import numpy as np\n",
    "import statsmodels.api as sm\n",
    "import pandas as pd\n",
    "import matplotlib.pyplot as plt\n",
    "import seaborn as sns\n",
    "from statsmodels import distributions"
   ]
  },
  {
   "cell_type": "code",
   "execution_count": 2,
   "id": "41b6784b-9e3f-43f8-af78-c12482056a9e",
   "metadata": {},
   "outputs": [],
   "source": [
    "tips = sns.load_dataset(\"tips\")"
   ]
  },
  {
   "cell_type": "code",
   "execution_count": 3,
   "id": "8d8d8439-b64b-450a-bd4e-b74054cd5caa",
   "metadata": {},
   "outputs": [
    {
     "data": {
      "text/html": [
       "<div>\n",
       "<style scoped>\n",
       "    .dataframe tbody tr th:only-of-type {\n",
       "        vertical-align: middle;\n",
       "    }\n",
       "\n",
       "    .dataframe tbody tr th {\n",
       "        vertical-align: top;\n",
       "    }\n",
       "\n",
       "    .dataframe thead th {\n",
       "        text-align: right;\n",
       "    }\n",
       "</style>\n",
       "<table border=\"1\" class=\"dataframe\">\n",
       "  <thead>\n",
       "    <tr style=\"text-align: right;\">\n",
       "      <th></th>\n",
       "      <th>total_bill</th>\n",
       "      <th>tip</th>\n",
       "      <th>sex</th>\n",
       "      <th>smoker</th>\n",
       "      <th>day</th>\n",
       "      <th>time</th>\n",
       "      <th>size</th>\n",
       "    </tr>\n",
       "  </thead>\n",
       "  <tbody>\n",
       "    <tr>\n",
       "      <th>0</th>\n",
       "      <td>16.99</td>\n",
       "      <td>1.01</td>\n",
       "      <td>Female</td>\n",
       "      <td>No</td>\n",
       "      <td>Sun</td>\n",
       "      <td>Dinner</td>\n",
       "      <td>2</td>\n",
       "    </tr>\n",
       "    <tr>\n",
       "      <th>1</th>\n",
       "      <td>10.34</td>\n",
       "      <td>1.66</td>\n",
       "      <td>Male</td>\n",
       "      <td>No</td>\n",
       "      <td>Sun</td>\n",
       "      <td>Dinner</td>\n",
       "      <td>3</td>\n",
       "    </tr>\n",
       "    <tr>\n",
       "      <th>2</th>\n",
       "      <td>21.01</td>\n",
       "      <td>3.50</td>\n",
       "      <td>Male</td>\n",
       "      <td>No</td>\n",
       "      <td>Sun</td>\n",
       "      <td>Dinner</td>\n",
       "      <td>3</td>\n",
       "    </tr>\n",
       "    <tr>\n",
       "      <th>3</th>\n",
       "      <td>23.68</td>\n",
       "      <td>3.31</td>\n",
       "      <td>Male</td>\n",
       "      <td>No</td>\n",
       "      <td>Sun</td>\n",
       "      <td>Dinner</td>\n",
       "      <td>2</td>\n",
       "    </tr>\n",
       "    <tr>\n",
       "      <th>4</th>\n",
       "      <td>24.59</td>\n",
       "      <td>3.61</td>\n",
       "      <td>Female</td>\n",
       "      <td>No</td>\n",
       "      <td>Sun</td>\n",
       "      <td>Dinner</td>\n",
       "      <td>4</td>\n",
       "    </tr>\n",
       "  </tbody>\n",
       "</table>\n",
       "</div>"
      ],
      "text/plain": [
       "   total_bill   tip     sex smoker  day    time  size\n",
       "0       16.99  1.01  Female     No  Sun  Dinner     2\n",
       "1       10.34  1.66    Male     No  Sun  Dinner     3\n",
       "2       21.01  3.50    Male     No  Sun  Dinner     3\n",
       "3       23.68  3.31    Male     No  Sun  Dinner     2\n",
       "4       24.59  3.61  Female     No  Sun  Dinner     4"
      ]
     },
     "execution_count": 3,
     "metadata": {},
     "output_type": "execute_result"
    }
   ],
   "source": [
    "tips.head()"
   ]
  },
  {
   "cell_type": "code",
   "execution_count": 4,
   "id": "14e5d63c-fdff-440a-8dc1-17304e06510f",
   "metadata": {},
   "outputs": [
    {
     "data": {
      "text/plain": [
       "array([1.01, 1.66, 3.5 , 3.31, 3.61, 4.71, 2.  , 3.12])"
      ]
     },
     "execution_count": 4,
     "metadata": {},
     "output_type": "execute_result"
    }
   ],
   "source": [
    "tips.tip.values[:8]"
   ]
  },
  {
   "cell_type": "code",
   "execution_count": 5,
   "id": "9a77e848-8688-448c-9ee7-244173b48ce2",
   "metadata": {},
   "outputs": [
    {
     "data": {
      "text/plain": [
       "(array([14., 27., 55., 24., 41., 25., 20.,  7., 13.,  6.,  4.,  1.,  4.,\n",
       "         0.,  1.,  0.,  0.,  1.,  0.,  1.]),\n",
       " array([ 1.  ,  1.45,  1.9 ,  2.35,  2.8 ,  3.25,  3.7 ,  4.15,  4.6 ,\n",
       "         5.05,  5.5 ,  5.95,  6.4 ,  6.85,  7.3 ,  7.75,  8.2 ,  8.65,\n",
       "         9.1 ,  9.55, 10.  ]),\n",
       " <BarContainer object of 20 artists>)"
      ]
     },
     "execution_count": 5,
     "metadata": {},
     "output_type": "execute_result"
    },
    {
     "data": {
      "image/png": "[encoded data removed]",
      "text/plain": [
       "<Figure size 640x480 with 1 Axes>"
      ]
     },
     "metadata": {},
     "output_type": "display_data"
    }
   ],
   "source": [
    "plt.hist(tips.tip, bins=20)"
   ]
  },
  {
   "cell_type": "code",
   "execution_count": 6,
   "id": "e2c370bf-78b9-4c07-a20f-1e4d163ab621",
   "metadata": {},
   "outputs": [
    {
     "data": {
      "text/plain": [
       "(array([ 6.,  4.,  2., 17., 10.,  6., 45., 18., 12., 36., 26.,  9., 21.,\n",
       "        14.,  7.,  4.,  4.,  1.,  0.,  2.]),\n",
       " array([0.        , 0.11512925, 0.23025851, 0.34538776, 0.46051702,\n",
       "        0.57564627, 0.69077553, 0.80590478, 0.92103404, 1.03616329,\n",
       "        1.15129255, 1.2664218 , 1.38155106, 1.49668031, 1.61180957,\n",
       "        1.72693882, 1.84206807, 1.95719733, 2.07232658, 2.18745584,\n",
       "        2.30258509]),\n",
       " <BarContainer object of 20 artists>)"
      ]
     },
     "execution_count": 6,
     "metadata": {},
     "output_type": "execute_result"
    },
    {
     "data": {
      "image/png": "[encoded data removed]",
      "text/plain": [
       "<Figure size 640x480 with 1 Axes>"
      ]
     },
     "metadata": {},
     "output_type": "display_data"
    }
   ],
   "source": [
    "plt.hist(np.log(tips.tip), bins=20)"
   ]
  },
  {
   "cell_type": "code",
   "execution_count": 7,
   "id": "5c73ff7e-6079-4785-b4a6-c29d53c81ae7",
   "metadata": {},
   "outputs": [],
   "source": [
    "tips[\"logtip\"]=np.log(tips.tip)"
   ]
  },
  {
   "cell_type": "code",
   "execution_count": 8,
   "id": "59ced478-3d15-4ec3-bd69-2b516b6e208f",
   "metadata": {},
   "outputs": [
    {
     "data": {
      "text/html": [
       "<div>\n",
       "<style scoped>\n",
       "    .dataframe tbody tr th:only-of-type {\n",
       "        vertical-align: middle;\n",
       "    }\n",
       "\n",
       "    .dataframe tbody tr th {\n",
       "        vertical-align: top;\n",
       "    }\n",
       "\n",
       "    .dataframe thead th {\n",
       "        text-align: right;\n",
       "    }\n",
       "</style>\n",
       "<table border=\"1\" class=\"dataframe\">\n",
       "  <thead>\n",
       "    <tr style=\"text-align: right;\">\n",
       "      <th></th>\n",
       "      <th>total_bill</th>\n",
       "      <th>tip</th>\n",
       "      <th>sex</th>\n",
       "      <th>smoker</th>\n",
       "      <th>day</th>\n",
       "      <th>time</th>\n",
       "      <th>size</th>\n",
       "      <th>logtip</th>\n",
       "    </tr>\n",
       "  </thead>\n",
       "  <tbody>\n",
       "    <tr>\n",
       "      <th>0</th>\n",
       "      <td>16.99</td>\n",
       "      <td>1.01</td>\n",
       "      <td>Female</td>\n",
       "      <td>No</td>\n",
       "      <td>Sun</td>\n",
       "      <td>Dinner</td>\n",
       "      <td>2</td>\n",
       "      <td>0.009950</td>\n",
       "    </tr>\n",
       "    <tr>\n",
       "      <th>1</th>\n",
       "      <td>10.34</td>\n",
       "      <td>1.66</td>\n",
       "      <td>Male</td>\n",
       "      <td>No</td>\n",
       "      <td>Sun</td>\n",
       "      <td>Dinner</td>\n",
       "      <td>3</td>\n",
       "      <td>0.506818</td>\n",
       "    </tr>\n",
       "    <tr>\n",
       "      <th>2</th>\n",
       "      <td>21.01</td>\n",
       "      <td>3.50</td>\n",
       "      <td>Male</td>\n",
       "      <td>No</td>\n",
       "      <td>Sun</td>\n",
       "      <td>Dinner</td>\n",
       "      <td>3</td>\n",
       "      <td>1.252763</td>\n",
       "    </tr>\n",
       "    <tr>\n",
       "      <th>3</th>\n",
       "      <td>23.68</td>\n",
       "      <td>3.31</td>\n",
       "      <td>Male</td>\n",
       "      <td>No</td>\n",
       "      <td>Sun</td>\n",
       "      <td>Dinner</td>\n",
       "      <td>2</td>\n",
       "      <td>1.196948</td>\n",
       "    </tr>\n",
       "    <tr>\n",
       "      <th>4</th>\n",
       "      <td>24.59</td>\n",
       "      <td>3.61</td>\n",
       "      <td>Female</td>\n",
       "      <td>No</td>\n",
       "      <td>Sun</td>\n",
       "      <td>Dinner</td>\n",
       "      <td>4</td>\n",
       "      <td>1.283708</td>\n",
       "    </tr>\n",
       "  </tbody>\n",
       "</table>\n",
       "</div>"
      ],
      "text/plain": [
       "   total_bill   tip     sex smoker  day    time  size    logtip\n",
       "0       16.99  1.01  Female     No  Sun  Dinner     2  0.009950\n",
       "1       10.34  1.66    Male     No  Sun  Dinner     3  0.506818\n",
       "2       21.01  3.50    Male     No  Sun  Dinner     3  1.252763\n",
       "3       23.68  3.31    Male     No  Sun  Dinner     2  1.196948\n",
       "4       24.59  3.61  Female     No  Sun  Dinner     4  1.283708"
      ]
     },
     "execution_count": 8,
     "metadata": {},
     "output_type": "execute_result"
    }
   ],
   "source": [
    "tips.head()"
   ]
  },
  {
   "cell_type": "code",
   "execution_count": 9,
   "id": "92dd50a2-e17a-4b6e-8815-ed648664d531",
   "metadata": {},
   "outputs": [],
   "source": [
    "m,s=stats.norm.fit(tips.logtip)"
   ]
  },
  {
   "cell_type": "code",
   "execution_count": 10,
   "id": "7ff270e1-f0c5-4208-b624-625466c27dc3",
   "metadata": {},
   "outputs": [
    {
     "data": {
      "text/plain": [
       "(1.0025376996300006, 0.4352662333177251)"
      ]
     },
     "execution_count": 10,
     "metadata": {},
     "output_type": "execute_result"
    }
   ],
   "source": [
    "m,s"
   ]
  },
  {
   "cell_type": "code",
   "execution_count": 11,
   "id": "16187e0f-3861-4482-8d7c-0098395e21f9",
   "metadata": {},
   "outputs": [],
   "source": [
    "ecdf=sm.distributions.ECDF(tips.logtip)"
   ]
  },
  {
   "cell_type": "code",
   "execution_count": 12,
   "id": "39b25c61-d8ef-4b37-b1ce-cdafccd069b5",
   "metadata": {},
   "outputs": [
    {
     "data": {
      "text/plain": [
       "[<matplotlib.lines.Line2D at 0x1ce5e7565c0>]"
      ]
     },
     "execution_count": 12,
     "metadata": {},
     "output_type": "execute_result"
    },
    {
     "data": {
      "image/png": "[encoded data removed]",
      "text/plain": [
       "<Figure size 640x480 with 1 Axes>"
      ]
     },
     "metadata": {},
     "output_type": "display_data"
    }
   ],
   "source": [
    "plt.axis([-0.5,3,0,1])\n",
    "t1=np.linspace(-0.5,3,100)\n",
    "t2=stats.norm.cdf(t1,loc=m, scale=0.5)\n",
    "plt.step(ecdf.x, ecdf.y)\n",
    "plt.plot(t1,t2)"
   ]
  },
  {
   "cell_type": "code",
   "execution_count": 13,
   "id": "4f13cc8f-6313-45ac-81d0-b904d061e618",
   "metadata": {},
   "outputs": [
    {
     "data": {
      "text/plain": [
       "((array([-2.7660794 , -2.46319801, -2.29114787, -2.16825434, -2.07137443,\n",
       "         -1.99075074, -1.9213089 , -1.86005848, -1.80508277, -1.75507658,\n",
       "         -1.70910939, -1.66649348, -1.62670558, -1.58933792, -1.55406631,\n",
       "         -1.52062855, -1.48880944, -1.45843008, -1.42934008, -1.40141172,\n",
       "         -1.37453559, -1.34861722, -1.32357442, -1.29933525, -1.27583633,\n",
       "         -1.25302156, -1.230841  , -1.20924999, -1.18820845, -1.16768023,\n",
       "         -1.14763264, -1.12803597, -1.10886319, -1.09008958, -1.07169252,\n",
       "         -1.0536512 , -1.03594646, -1.01856064, -1.00147737, -0.98468148,\n",
       "         -0.96815887, -0.95189643, -0.93588192, -0.9201039 , -0.90455168,\n",
       "         -0.88921522, -0.87408512, -0.85915251, -0.84440907, -0.82984693,\n",
       "         -0.81545867, -0.80123728, -0.78717613, -0.77326892, -0.75950968,\n",
       "         -0.74589275, -0.73241275, -0.71906453, -0.70584322, -0.69274417,\n",
       "         -0.67976291, -0.66689521, -0.65413699, -0.64148438, -0.62893363,\n",
       "         -0.61648119, -0.60412361, -0.59185761, -0.57968002, -0.56758779,\n",
       "         -0.555578  , -0.54364781, -0.5317945 , -0.52001544, -0.5083081 ,\n",
       "         -0.49667002, -0.48509883, -0.47359222, -0.46214799, -0.45076396,\n",
       "         -0.43943806, -0.42816824, -0.41695255, -0.40578907, -0.39467593,\n",
       "         -0.38361132, -0.37259348, -0.36162069, -0.35069126, -0.33980357,\n",
       "         -0.32895601, -0.31814702, -0.30737508, -0.29663869, -0.28593638,\n",
       "         -0.27526672, -0.26462831, -0.25401977, -0.24343974, -0.23288689,\n",
       "         -0.22235991, -0.21185751, -0.20137843, -0.19092142, -0.18048525,\n",
       "         -0.1700687 , -0.15967057, -0.14928967, -0.13892484, -0.12857491,\n",
       "         -0.11823873, -0.10791517, -0.09760311, -0.08730141, -0.07700896,\n",
       "         -0.06672467, -0.05644743, -0.04617615, -0.03590974, -0.02564712,\n",
       "         -0.01538719, -0.00512888,  0.00512888,  0.01538719,  0.02564712,\n",
       "          0.03590974,  0.04617615,  0.05644743,  0.06672467,  0.07700896,\n",
       "          0.08730141,  0.09760311,  0.10791517,  0.11823873,  0.12857491,\n",
       "          0.13892484,  0.14928967,  0.15967057,  0.1700687 ,  0.18048525,\n",
       "          0.19092142,  0.20137843,  0.21185751,  0.22235991,  0.23288689,\n",
       "          0.24343974,  0.25401977,  0.26462831,  0.27526672,  0.28593638,\n",
       "          0.29663869,  0.30737508,  0.31814702,  0.32895601,  0.33980357,\n",
       "          0.35069126,  0.36162069,  0.37259348,  0.38361132,  0.39467593,\n",
       "          0.40578907,  0.41695255,  0.42816824,  0.43943806,  0.45076396,\n",
       "          0.46214799,  0.47359222,  0.48509883,  0.49667002,  0.5083081 ,\n",
       "          0.52001544,  0.5317945 ,  0.54364781,  0.555578  ,  0.56758779,\n",
       "          0.57968002,  0.59185761,  0.60412361,  0.61648119,  0.62893363,\n",
       "          0.64148438,  0.65413699,  0.66689521,  0.67976291,  0.69274417,\n",
       "          0.70584322,  0.71906453,  0.73241275,  0.74589275,  0.75950968,\n",
       "          0.77326892,  0.78717613,  0.80123728,  0.81545867,  0.82984693,\n",
       "          0.84440907,  0.85915251,  0.87408512,  0.88921522,  0.90455168,\n",
       "          0.9201039 ,  0.93588192,  0.95189643,  0.96815887,  0.98468148,\n",
       "          1.00147737,  1.01856064,  1.03594646,  1.0536512 ,  1.07169252,\n",
       "          1.09008958,  1.10886319,  1.12803597,  1.14763264,  1.16768023,\n",
       "          1.18820845,  1.20924999,  1.230841  ,  1.25302156,  1.27583633,\n",
       "          1.29933525,  1.32357442,  1.34861722,  1.37453559,  1.40141172,\n",
       "          1.42934008,  1.45843008,  1.48880944,  1.52062855,  1.55406631,\n",
       "          1.58933792,  1.62670558,  1.66649348,  1.70910939,  1.75507658,\n",
       "          1.80508277,  1.86005848,  1.9213089 ,  1.99075074,  2.07137443,\n",
       "          2.16825434,  2.29114787,  2.46319801,  2.7660794 ]),\n",
       "  array([0.        , 0.        , 0.        , 0.        , 0.00995033,\n",
       "         0.09531018, 0.15700375, 0.22314355, 0.22314355, 0.22314355,\n",
       "         0.27763174, 0.3074847 , 0.36464311, 0.36464311, 0.37156356,\n",
       "         0.3852624 , 0.39204209, 0.40546511, 0.40546511, 0.40546511,\n",
       "         0.40546511, 0.40546511, 0.40546511, 0.40546511, 0.40546511,\n",
       "         0.40546511, 0.44468582, 0.45107562, 0.45742485, 0.47623418,\n",
       "         0.48858001, 0.49469624, 0.5068176 , 0.51282363, 0.51879379,\n",
       "         0.53649337, 0.54812141, 0.55961579, 0.56531381, 0.58778666,\n",
       "         0.60431597, 0.65232519, 0.67294447, 0.67803354, 0.68309684,\n",
       "         0.69314718, 0.69314718, 0.69314718, 0.69314718, 0.69314718,\n",
       "         0.69314718, 0.69314718, 0.69314718, 0.69314718, 0.69314718,\n",
       "         0.69314718, 0.69314718, 0.69314718, 0.69314718, 0.69314718,\n",
       "         0.69314718, 0.69314718, 0.69314718, 0.69314718, 0.69314718,\n",
       "         0.69314718, 0.69314718, 0.69314718, 0.69314718, 0.69314718,\n",
       "         0.69314718, 0.69314718, 0.69314718, 0.69314718, 0.69314718,\n",
       "         0.69314718, 0.69314718, 0.69314718, 0.69813472, 0.69813472,\n",
       "         0.70309751, 0.70803579, 0.70803579, 0.71783979, 0.73716407,\n",
       "         0.77932488, 0.78845736, 0.78845736, 0.80200159, 0.80200159,\n",
       "         0.80647587, 0.80647587, 0.83290912, 0.83724752, 0.83724752,\n",
       "         0.85015093, 0.89608802, 0.90421815, 0.91629073, 0.91629073,\n",
       "         0.91629073, 0.91629073, 0.91629073, 0.91629073, 0.91629073,\n",
       "         0.91629073, 0.91629073, 0.91629073, 0.9242589 , 0.93216408,\n",
       "         0.93609336, 0.94000726, 0.95551145, 0.95935022, 0.97077892,\n",
       "         0.99694863, 1.00063188, 1.00795792, 1.01160091, 1.01160091,\n",
       "         1.04027671, 1.05779029, 1.07158362, 1.09861229, 1.09861229,\n",
       "         1.09861229, 1.09861229, 1.09861229, 1.09861229, 1.09861229,\n",
       "         1.09861229, 1.09861229, 1.09861229, 1.09861229, 1.09861229,\n",
       "         1.09861229, 1.09861229, 1.09861229, 1.09861229, 1.09861229,\n",
       "         1.09861229, 1.09861229, 1.09861229, 1.09861229, 1.09861229,\n",
       "         1.09861229, 1.10525683, 1.11841492, 1.12167756, 1.1249296 ,\n",
       "         1.12817109, 1.13462273, 1.137833  , 1.1442228 , 1.14740245,\n",
       "         1.15057203, 1.1568812 , 1.1568812 , 1.16627094, 1.17248214,\n",
       "         1.17248214, 1.178655  , 1.178655  , 1.18478998, 1.19694819,\n",
       "         1.20896035, 1.22082992, 1.22377543, 1.22671229, 1.24703229,\n",
       "         1.24703229, 1.24703229, 1.25276297, 1.25276297, 1.25276297,\n",
       "         1.25276297, 1.25276297, 1.25276297, 1.25276297, 1.25276297,\n",
       "         1.25276297, 1.25561604, 1.2669476 , 1.28093385, 1.28370777,\n",
       "         1.30291275, 1.31103188, 1.32175584, 1.32441896, 1.32441896,\n",
       "         1.36609165, 1.38629436, 1.38629436, 1.38629436, 1.38629436,\n",
       "         1.38629436, 1.38629436, 1.38629436, 1.38629436, 1.38629436,\n",
       "         1.38629436, 1.38629436, 1.38629436, 1.40118297, 1.40609699,\n",
       "         1.40609699, 1.43270073, 1.43508453, 1.45628673, 1.45861502,\n",
       "         1.45861502, 1.46787435, 1.5040774 , 1.54115907, 1.54968791,\n",
       "         1.5539252 , 1.60943791, 1.60943791, 1.60943791, 1.60943791,\n",
       "         1.60943791, 1.60943791, 1.60943791, 1.60943791, 1.60943791,\n",
       "         1.60943791, 1.62334082, 1.63705308, 1.63899671, 1.64093658,\n",
       "         1.64287269, 1.64865863, 1.7227666 , 1.73165555, 1.76644166,\n",
       "         1.77833645, 1.79175947, 1.87180218, 1.87180218, 1.90210753,\n",
       "         1.90657514, 2.0255132 , 2.19722458, 2.30258509])),\n",
       " (0.43716926985034704, 1.0025376996300004, 0.9949086980990649))"
      ]
     },
     "execution_count": 13,
     "metadata": {},
     "output_type": "execute_result"
    },
    {
     "data": {
      "image/png": "[encoded data removed]",
      "text/plain": [
       "<Figure size 640x480 with 1 Axes>"
      ]
     },
     "metadata": {},
     "output_type": "display_data"
    }
   ],
   "source": [
    "stats.probplot(tips.logtip,dist=stats.norm, plot=plt)"
   ]
  },
  {
   "cell_type": "code",
   "execution_count": 14,
   "id": "c3a00ebd-6fde-46a5-a7b8-c2706ef8dfdf",
   "metadata": {},
   "outputs": [],
   "source": [
    "test1=stats.skewtest(tips.logtip)"
   ]
  },
  {
   "cell_type": "code",
   "execution_count": 15,
   "id": "a44bf3e8-d73b-4dbb-9b54-2ab5f98de1b2",
   "metadata": {},
   "outputs": [
    {
     "data": {
      "text/plain": [
       "SkewtestResult(statistic=0.49672635658719194, pvalue=0.619382033531661)"
      ]
     },
     "execution_count": 15,
     "metadata": {},
     "output_type": "execute_result"
    }
   ],
   "source": [
    "test1"
   ]
  },
  {
   "cell_type": "code",
   "execution_count": 16,
   "id": "8c24f8fc-fa1b-4d09-aeb9-59509d00b8c7",
   "metadata": {},
   "outputs": [
    {
     "data": {
      "text/plain": [
       "KurtosistestResult(statistic=-0.5011192568367938, pvalue=0.6162871950497942)"
      ]
     },
     "execution_count": 16,
     "metadata": {},
     "output_type": "execute_result"
    }
   ],
   "source": [
    "stats.kurtosistest(tips.logtip)"
   ]
  },
  {
   "cell_type": "code",
   "execution_count": 17,
   "id": "797e0f89-811b-452d-8656-768035b71978",
   "metadata": {},
   "outputs": [
    {
     "data": {
      "text/plain": [
       "ShapiroResult(statistic=0.9888468157351475, pvalue=0.056207717607826786)"
      ]
     },
     "execution_count": 17,
     "metadata": {},
     "output_type": "execute_result"
    }
   ],
   "source": [
    "stats.shapiro(tips.logtip)"
   ]
  },
  {
   "cell_type": "code",
   "execution_count": 18,
   "id": "c195d979-9e25-4540-bf8b-d2abf38fa8cd",
   "metadata": {},
   "outputs": [],
   "source": [
    "norm1=stats.norm(m,s)"
   ]
  },
  {
   "cell_type": "code",
   "execution_count": 19,
   "id": "cb1d6a51-2557-478d-abeb-33c0df7c9d77",
   "metadata": {},
   "outputs": [
    {
     "data": {
      "text/plain": [
       "KstestResult(statistic=0.0908346084933565, pvalue=0.033449454468464035, statistic_location=0.7080357930536959, statistic_sign=1)"
      ]
     },
     "execution_count": 19,
     "metadata": {},
     "output_type": "execute_result"
    }
   ],
   "source": [
    "stats.kstest(tips.logtip,norm1.cdf)"
   ]
  },
  {
   "cell_type": "raw",
   "id": "e62fd563-03a9-467f-a21b-7b6cc1e6d0b7",
   "metadata": {},
   "source": [
    "norm2=stats.norm(m,0.5)"
   ]
  },
  {
   "cell_type": "code",
   "execution_count": 20,
   "id": "211aee0b-0036-418f-b3b6-4191d467ef7a",
   "metadata": {},
   "outputs": [],
   "source": [
    "norm2=stats.norm(m,0.5)"
   ]
  },
  {
   "cell_type": "code",
   "execution_count": 21,
   "id": "75a1731f-98c7-477d-ad91-98efe9f8c677",
   "metadata": {},
   "outputs": [
    {
     "data": {
      "text/plain": [
       "KstestResult(statistic=0.08360407822104635, pvalue=0.06229614845052134, statistic_location=0.6931471805599453, statistic_sign=-1)"
      ]
     },
     "execution_count": 21,
     "metadata": {},
     "output_type": "execute_result"
    }
   ],
   "source": [
    "stats.kstest(tips.logtip,norm2.cdf)"
   ]
  },
  {
   "cell_type": "code",
   "execution_count": 22,
   "id": "edddcb36-c87e-4b04-8683-fd583a85aca6",
   "metadata": {},
   "outputs": [],
   "source": [
    "N=tips.day.value_counts()"
   ]
  },
  {
   "cell_type": "code",
   "execution_count": 23,
   "id": "6de3396c-356b-47c9-a486-03152dfd7abf",
   "metadata": {},
   "outputs": [
    {
     "data": {
      "text/plain": [
       "Sat     87\n",
       "Sun     76\n",
       "Thur    62\n",
       "Fri     19\n",
       "Name: day, dtype: int64"
      ]
     },
     "execution_count": 23,
     "metadata": {},
     "output_type": "execute_result"
    }
   ],
   "source": [
    "N"
   ]
  },
  {
   "cell_type": "code",
   "execution_count": 24,
   "id": "6f10bdd3-41b4-4bf9-bdaf-0225cb254506",
   "metadata": {},
   "outputs": [
    {
     "data": {
      "text/plain": [
       "Power_divergenceResult(statistic=5.617486338797814, pvalue=0.13177808288801446)"
      ]
     },
     "execution_count": 24,
     "metadata": {},
     "output_type": "execute_result"
    }
   ],
   "source": [
    "stats.chisquare(N, np.r_[0.3, 0.3, 0.3, 0.1]*N.sum())"
   ]
  },
  {
   "cell_type": "code",
   "execution_count": 25,
   "id": "22f33ead-b4e1-4cbe-863b-6f56ca450b19",
   "metadata": {},
   "outputs": [
    {
     "data": {
      "text/plain": [
       "TtestResult(statistic=-1.6997965487121514, pvalue=0.09044877787141524, df=243)"
      ]
     },
     "execution_count": 25,
     "metadata": {},
     "output_type": "execute_result"
    }
   ],
   "source": [
    "stats.ttest_1samp(tips.logtip,popmean=1.05)"
   ]
  },
  {
   "cell_type": "code",
   "execution_count": 26,
   "id": "7843ba3d-3ea4-4134-a7a6-99bc434887d0",
   "metadata": {},
   "outputs": [],
   "source": [
    "logtip_smoker = [z[1] for z in tips.logtip.groupby(tips.smoker)]"
   ]
  },
  {
   "cell_type": "code",
   "execution_count": 27,
   "id": "0356b345",
   "metadata": {},
   "outputs": [
    {
     "data": {
      "text/html": [
       "<div>\n",
       "<style scoped>\n",
       "    .dataframe tbody tr th:only-of-type {\n",
       "        vertical-align: middle;\n",
       "    }\n",
       "\n",
       "    .dataframe tbody tr th {\n",
       "        vertical-align: top;\n",
       "    }\n",
       "\n",
       "    .dataframe thead th {\n",
       "        text-align: right;\n",
       "    }\n",
       "</style>\n",
       "<table border=\"1\" class=\"dataframe\">\n",
       "  <thead>\n",
       "    <tr style=\"text-align: right;\">\n",
       "      <th></th>\n",
       "      <th>mean</th>\n",
       "      <th>var</th>\n",
       "      <th>statistic</th>\n",
       "      <th>p_value</th>\n",
       "    </tr>\n",
       "  </thead>\n",
       "  <tbody>\n",
       "    <tr>\n",
       "      <th>0</th>\n",
       "      <td>1.005282</td>\n",
       "      <td>0.195278</td>\n",
       "      <td>0.977275</td>\n",
       "      <td>0.104381</td>\n",
       "    </tr>\n",
       "    <tr>\n",
       "      <th>1</th>\n",
       "      <td>1.000848</td>\n",
       "      <td>0.188405</td>\n",
       "      <td>0.989688</td>\n",
       "      <td>0.335011</td>\n",
       "    </tr>\n",
       "  </tbody>\n",
       "</table>\n",
       "</div>"
      ],
      "text/plain": [
       "       mean       var  statistic   p_value\n",
       "0  1.005282  0.195278   0.977275  0.104381\n",
       "1  1.000848  0.188405   0.989688  0.335011"
      ]
     },
     "execution_count": 27,
     "metadata": {},
     "output_type": "execute_result"
    }
   ],
   "source": [
    "pd.DataFrame([(y.mean(), y.var(ddof=1), *stats.shapiro(y))\n",
    "    for y in logtip_smoker],\n",
    "    columns = [\"mean\",\"var\",\"statistic\",\"p_value\"])"
   ]
  },
  {
   "cell_type": "code",
   "execution_count": 28,
   "id": "2605e675",
   "metadata": {},
   "outputs": [
    {
     "data": {
      "text/plain": [
       "BartlettResult(statistic=0.0365538401463083, pvalue=0.8483762789164191)"
      ]
     },
     "execution_count": 28,
     "metadata": {},
     "output_type": "execute_result"
    }
   ],
   "source": [
    "stats.bartlett(*logtip_smoker)"
   ]
  },
  {
   "cell_type": "code",
   "execution_count": 29,
   "id": "a10c52f2",
   "metadata": {},
   "outputs": [
    {
     "data": {
      "text/plain": [
       "TtestResult(statistic=0.07696102513921424, pvalue=0.9387181402369299, df=242.0)"
      ]
     },
     "execution_count": 29,
     "metadata": {},
     "output_type": "execute_result"
    }
   ],
   "source": [
    "stats.ttest_ind(logtip_smoker[0], logtip_smoker[1])"
   ]
  },
  {
   "cell_type": "code",
   "execution_count": 30,
   "id": "310db2e9",
   "metadata": {},
   "outputs": [
    {
     "data": {
      "text/plain": [
       "day\n",
       "Sun     1.105401\n",
       "Sat     0.978022\n",
       "Thur    0.932488\n",
       "Fri     0.931926\n",
       "Name: logtip, dtype: float64"
      ]
     },
     "execution_count": 30,
     "metadata": {},
     "output_type": "execute_result"
    }
   ],
   "source": [
    "tips.logtip.groupby(tips.day, observed=True).mean()"
   ]
  },
  {
   "cell_type": "code",
   "execution_count": 31,
   "id": "d6e0bdb5",
   "metadata": {},
   "outputs": [
    {
     "data": {
      "text/plain": [
       "F_onewayResult(statistic=2.233205110714639, pvalue=0.084991274983257)"
      ]
     },
     "execution_count": 31,
     "metadata": {},
     "output_type": "execute_result"
    }
   ],
   "source": [
    "logtip_smoker = [z[1] for z in tips.logtip.groupby(tips.day, observed=True)]\n",
    "stats.f_oneway(*logtip_smoker)"
   ]
  },
  {
   "cell_type": "code",
   "execution_count": 32,
   "id": "6a5d7bc7",
   "metadata": {},
   "outputs": [],
   "source": [
    "import statsmodels.formula.api, statsmodels.api"
   ]
  },
  {
   "cell_type": "code",
   "execution_count": 33,
   "id": "71c88074",
   "metadata": {},
   "outputs": [],
   "source": [
    "model = statsmodels.formula.api.ols(\"logtip~C(day)\", data=tips).fit()"
   ]
  },
  {
   "cell_type": "code",
   "execution_count": 34,
   "id": "e44c007b",
   "metadata": {},
   "outputs": [
    {
     "data": {
      "text/html": [
       "<div>\n",
       "<style scoped>\n",
       "    .dataframe tbody tr th:only-of-type {\n",
       "        vertical-align: middle;\n",
       "    }\n",
       "\n",
       "    .dataframe tbody tr th {\n",
       "        vertical-align: top;\n",
       "    }\n",
       "\n",
       "    .dataframe thead th {\n",
       "        text-align: right;\n",
       "    }\n",
       "</style>\n",
       "<table border=\"1\" class=\"dataframe\">\n",
       "  <thead>\n",
       "    <tr style=\"text-align: right;\">\n",
       "      <th></th>\n",
       "      <th>df</th>\n",
       "      <th>sum_sq</th>\n",
       "      <th>mean_sq</th>\n",
       "      <th>F</th>\n",
       "      <th>PR(&gt;F)</th>\n",
       "    </tr>\n",
       "  </thead>\n",
       "  <tbody>\n",
       "    <tr>\n",
       "      <th>C(day)</th>\n",
       "      <td>3.0</td>\n",
       "      <td>1.255397</td>\n",
       "      <td>0.418466</td>\n",
       "      <td>2.233205</td>\n",
       "      <td>0.084991</td>\n",
       "    </tr>\n",
       "    <tr>\n",
       "      <th>Residual</th>\n",
       "      <td>240.0</td>\n",
       "      <td>44.972036</td>\n",
       "      <td>0.187383</td>\n",
       "      <td>NaN</td>\n",
       "      <td>NaN</td>\n",
       "    </tr>\n",
       "  </tbody>\n",
       "</table>\n",
       "</div>"
      ],
      "text/plain": [
       "             df     sum_sq   mean_sq         F    PR(>F)\n",
       "C(day)      3.0   1.255397  0.418466  2.233205  0.084991\n",
       "Residual  240.0  44.972036  0.187383       NaN       NaN"
      ]
     },
     "execution_count": 34,
     "metadata": {},
     "output_type": "execute_result"
    }
   ],
   "source": [
    "statsmodels.api.stats.anova_lm(model)"
   ]
  },
  {
   "cell_type": "code",
   "execution_count": 35,
   "id": "4b44f7e3",
   "metadata": {},
   "outputs": [],
   "source": [
    "model2 = statsmodels.formula.api.ols(\"logtip~C(time)+C(smoker)+C(time):C(smoker)\", data=tips).fit()"
   ]
  },
  {
   "cell_type": "code",
   "execution_count": 36,
   "id": "5cff3895",
   "metadata": {},
   "outputs": [
    {
     "data": {
      "text/html": [
       "<div>\n",
       "<style scoped>\n",
       "    .dataframe tbody tr th:only-of-type {\n",
       "        vertical-align: middle;\n",
       "    }\n",
       "\n",
       "    .dataframe tbody tr th {\n",
       "        vertical-align: top;\n",
       "    }\n",
       "\n",
       "    .dataframe thead th {\n",
       "        text-align: right;\n",
       "    }\n",
       "</style>\n",
       "<table border=\"1\" class=\"dataframe\">\n",
       "  <thead>\n",
       "    <tr style=\"text-align: right;\">\n",
       "      <th></th>\n",
       "      <th>df</th>\n",
       "      <th>sum_sq</th>\n",
       "      <th>mean_sq</th>\n",
       "      <th>F</th>\n",
       "      <th>PR(&gt;F)</th>\n",
       "    </tr>\n",
       "  </thead>\n",
       "  <tbody>\n",
       "    <tr>\n",
       "      <th>C(time)</th>\n",
       "      <td>1.0</td>\n",
       "      <td>0.640189</td>\n",
       "      <td>0.640189</td>\n",
       "      <td>3.383699</td>\n",
       "      <td>0.067079</td>\n",
       "    </tr>\n",
       "    <tr>\n",
       "      <th>C(smoker)</th>\n",
       "      <td>1.0</td>\n",
       "      <td>0.000107</td>\n",
       "      <td>0.000107</td>\n",
       "      <td>0.000563</td>\n",
       "      <td>0.981086</td>\n",
       "    </tr>\n",
       "    <tr>\n",
       "      <th>C(time):C(smoker)</th>\n",
       "      <td>1.0</td>\n",
       "      <td>0.179602</td>\n",
       "      <td>0.179602</td>\n",
       "      <td>0.949279</td>\n",
       "      <td>0.330884</td>\n",
       "    </tr>\n",
       "    <tr>\n",
       "      <th>Residual</th>\n",
       "      <td>240.0</td>\n",
       "      <td>45.407536</td>\n",
       "      <td>0.189198</td>\n",
       "      <td>NaN</td>\n",
       "      <td>NaN</td>\n",
       "    </tr>\n",
       "  </tbody>\n",
       "</table>\n",
       "</div>"
      ],
      "text/plain": [
       "                      df     sum_sq   mean_sq         F    PR(>F)\n",
       "C(time)              1.0   0.640189  0.640189  3.383699  0.067079\n",
       "C(smoker)            1.0   0.000107  0.000107  0.000563  0.981086\n",
       "C(time):C(smoker)    1.0   0.179602  0.179602  0.949279  0.330884\n",
       "Residual           240.0  45.407536  0.189198       NaN       NaN"
      ]
     },
     "execution_count": 36,
     "metadata": {},
     "output_type": "execute_result"
    }
   ],
   "source": [
    "statsmodels.api.stats.anova_lm(model2)"
   ]
  },
  {
   "cell_type": "code",
   "execution_count": 107,
   "id": "389e78f6",
   "metadata": {},
   "outputs": [
    {
     "name": "stdout",
     "output_type": "stream",
     "text": [
      "1.30729494354427 \t 0.09618148285260038 \t 0.9504746144427816\n",
      "1.3221724480715626 \t -0.054486209565700036 \t 0.9741848805123018\n",
      "1.332465421361529 \t 0.08469896363599443 \t 0.7261475215755961\n",
      "1.4160001384107515 \t 0.5122971098111416 \t 0.741466802402119\n",
      "1.9686719882585941 \t -0.009962246921499905 \t 0.2921788404109825\n",
      "1.8927218111095 \t -0.33366892880353943 \t 0.05208393894699351\n"
     ]
    }
   ],
   "source": [
    "litera = [\"A\",\"B\",\"C\",\"D\",\"E\",\"F\"]\n",
    "var=[]\n",
    "shap = []\n",
    "srednia = []\n",
    "for i in range(len(litera)):\n",
    "    with open('Dane'+litera[i]+'.txt', 'r') as file:\n",
    "        data = [float(line.strip()) for line in file if line.strip()]\n",
    "\n",
    "    # Obliczanie wariancji\n",
    "    var.append(np.var(data, ddof=1))\n",
    "    #print(f\"Wariancja: {var[i]:.4f}\")\n",
    "    shap.append(stats.shapiro(data).pvalue)\n",
    "    srednia.append(np.mean(data))\n",
    "for i in range(len(var)):\n",
    "    print(var[i], \"\\t\", srednia[i], \"\\t\", shap[i])"
   ]
  },
  {
   "cell_type": "code",
   "execution_count": null,
   "id": "201d36ab",
   "metadata": {},
   "outputs": [],
   "source": []
  },
  {
   "cell_type": "code",
   "execution_count": null,
   "id": "aba1e2ee",
   "metadata": {},
   "outputs": [],
   "source": []
  },
  {
   "cell_type": "code",
   "execution_count": null,
   "id": "567196cb",
   "metadata": {},
   "outputs": [],
   "source": []
  },
  {
   "cell_type": "code",
   "execution_count": null,
   "id": "f26c4374",
   "metadata": {},
   "outputs": [],
   "source": []
  },
  {
   "cell_type": "code",
   "execution_count": null,
   "id": "04d1cfdf",
   "metadata": {},
   "outputs": [],
   "source": []
  },
  {
   "cell_type": "code",
   "execution_count": null,
   "id": "c18aa2f7",
   "metadata": {},
   "outputs": [],
   "source": []
  },
  {
   "cell_type": "code",
   "execution_count": null,
   "id": "cdfa6d1c",
   "metadata": {},
   "outputs": [],
   "source": []
  },
  {
   "cell_type": "code",
   "execution_count": null,
   "id": "92afe3ff",
   "metadata": {},
   "outputs": [],
   "source": []
  },
  {
   "cell_type": "code",
   "execution_count": null,
   "id": "b62c9823",
   "metadata": {},
   "outputs": [],
   "source": []
  },
  {
   "cell_type": "code",
   "execution_count": null,
   "id": "a1bf00a7",
   "metadata": {},
   "outputs": [],
   "source": []
  }
 ],
 "metadata": {
  "kernelspec": {
   "display_name": "Python 3",
   "language": "python",
   "name": "python3"
  },
  "language_info": {
   "codemirror_mode": {
    "name": "ipython",
    "version": 3
   },
   "file_extension": ".py",
   "mimetype": "text/x-python",
   "name": "python",
   "nbconvert_exporter": "python",
   "pygments_lexer": "ipython3",
   "version": "3.10.11"
  }
 },
 "nbformat": 4,
 "nbformat_minor": 5
}
